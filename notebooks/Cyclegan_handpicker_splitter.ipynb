{
 "cells": [
  {
   "cell_type": "code",
   "execution_count": null,
   "metadata": {},
   "outputs": [],
   "source": [
    "import os\n",
    "import matplotlib.pyplot as plt\n",
    "import pickle\n",
    "import sys\n",
    "import re\n",
    "from shutil import copyfile\n"
   ]
  },
  {
   "cell_type": "code",
   "execution_count": null,
   "metadata": {},
   "outputs": [],
   "source": [
    "os.sys.path.append('../')\n",
    "import config"
   ]
  },
  {
   "cell_type": "code",
   "execution_count": null,
   "metadata": {},
   "outputs": [],
   "source": [
    "A, B = [], [] "
   ]
  },
  {
   "cell_type": "code",
   "execution_count": null,
   "metadata": {},
   "outputs": [],
   "source": [
    "def handpick(pick_from_dir, save_to_list):\n",
    "    for _file in os.listdir(pick_from_dir):\n",
    "        source = os.path.join(pick_from_dir, _file)\n",
    "        f = open(source, \"rb\")\n",
    "        f = pickle.load(f)[\"data\"]\n",
    "        plt.imshow(f[:,:], cmap=plt.cm.gray)\n",
    "        plt.show()\n",
    "        _input = input(\"Enter \\\"y\\\" to copy file.\")\n",
    "        if _input.lower() == \"y\":\n",
    "            save_to_list.append(source)\n"
   ]
  },
  {
   "cell_type": "code",
   "execution_count": null,
   "metadata": {},
   "outputs": [],
   "source": [
    "handpick(config.cyclegan_data[\"CT0\"], A)"
   ]
  },
  {
   "cell_type": "code",
   "execution_count": null,
   "metadata": {},
   "outputs": [],
   "source": [
    "handpick(config.cyclegan_data[\"CT1\"], B)"
   ]
  },
  {
   "cell_type": "code",
   "execution_count": null,
   "metadata": {},
   "outputs": [],
   "source": [
    "handpick(config.cyclegan_data[\"CT2\"], B)"
   ]
  },
  {
   "cell_type": "code",
   "execution_count": null,
   "metadata": {},
   "outputs": [],
   "source": [
    "handpick(config.cyclegan_data[\"CT3\"], B)"
   ]
  },
  {
   "cell_type": "code",
   "execution_count": null,
   "metadata": {},
   "outputs": [],
   "source": [
    "handpick(config.cyclegan_data[\"CT4\"], B)"
   ]
  },
  {
   "cell_type": "code",
   "execution_count": null,
   "metadata": {},
   "outputs": [],
   "source": [
    "train_A = A[0:int(0.8*len(A))]\n",
    "train_B = B[0:int(0.8*len(B))]\n",
    "test_A = A[int(0.8*len(A)):]\n",
    "test_B = B[int(0.8*len(B)):]"
   ]
  },
  {
   "cell_type": "code",
   "execution_count": 30,
   "metadata": {},
   "outputs": [],
   "source": [
    "for image in train_A:\n",
    "    copyfile(image, \"/media/david/DATA/Covid-Data/cyclegan_data/train/A/\" + re.search(r\"\\b(study.+\\.pkl)\\b\", image).group(1))\n",
    "for image in train_B:\n",
    "    copyfile(image, \"/media/david/DATA/Covid-Data/cyclegan_data/train/B/\" + re.search(r\"\\b(study.+\\.pkl)\\b\", image).group(1))\n",
    "for image in test_A:\n",
    "    copyfile(image, \"/media/david/DATA/Covid-Data/cyclegan_data/test/A/\" + re.search(r\"\\b(study.+\\.pkl)\\b\", image).group(1))\n",
    "for image in test_B:\n",
    "    copyfile(image, \"/media/david/DATA/Covid-Data/cyclegan_data/test/B/\" + re.search(r\"\\b(study.+\\.pkl)\\b\", image).group(1))"
   ]
  },
  {
   "cell_type": "code",
   "execution_count": null,
   "metadata": {},
   "outputs": [],
   "source": []
  }
 ],
 "metadata": {
  "kernelspec": {
   "display_name": "Python 3",
   "language": "python",
   "name": "python3"
  },
  "language_info": {
   "codemirror_mode": {
    "name": "ipython",
    "version": 3
   },
   "file_extension": ".py",
   "mimetype": "text/x-python",
   "name": "python",
   "nbconvert_exporter": "python",
   "pygments_lexer": "ipython3",
   "version": "3.8.5"
  }
 },
 "nbformat": 4,
 "nbformat_minor": 4
}
