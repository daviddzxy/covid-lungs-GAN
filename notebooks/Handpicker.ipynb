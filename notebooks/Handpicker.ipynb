{
 "cells": [
  {
   "cell_type": "code",
   "execution_count": null,
   "metadata": {},
   "outputs": [],
   "source": [
    "import os\n",
    "os.sys.path.append('../')\n",
    "import config\n",
    "import matplotlib.pyplot as plt\n",
    "import pickle\n",
    "import sys\n",
    "from shutil import copyfile\n"
   ]
  },
  {
   "cell_type": "code",
   "execution_count": null,
   "metadata": {},
   "outputs": [],
   "source": [
    "def handpick(pick_from_dir, save_to_dir):\n",
    "    for _file in os.listdir(pick_from_dir):\n",
    "        source = os.path.join(pick_from_dir, _file)\n",
    "        dest = os.path.join(save_to_dir, _file)\n",
    "        f = open(source, \"rb\")\n",
    "        f = pickle.load(f)[\"data\"]\n",
    "        plt.imshow(f[:,:], cmap=plt.cm.gray)\n",
    "        plt.show()\n",
    "        _input = input(\"Enter \\\"y\\\" to copy file.\")\n",
    "        if _input.lower() == \"y\":\n",
    "            copyfile(source, dest)\n"
   ]
  },
  {
   "cell_type": "code",
   "execution_count": null,
   "metadata": {},
   "outputs": [],
   "source": [
    "handpick(config.preprocessed_data[\"CT2\"], config.training_data[\"B\"])"
   ]
  },
  {
   "cell_type": "code",
   "execution_count": null,
   "metadata": {},
   "outputs": [],
   "source": [
    "handpick(config.preprocessed_data[\"CT3\"], config.training_data[\"B\"])"
   ]
  },
  {
   "cell_type": "code",
   "execution_count": null,
   "metadata": {},
   "outputs": [],
   "source": [
    "handpick(config.preprocessed_data[\"CT4\"], config.training_data[\"B\"])"
   ]
  },
  {
   "cell_type": "code",
   "execution_count": null,
   "metadata": {},
   "outputs": [],
   "source": [
    "handpick(config.preprocessed_data[\"CT0\"], config.training_data[\"A\"])"
   ]
  }
 ],
 "metadata": {
  "kernelspec": {
   "display_name": "Python 3",
   "language": "python",
   "name": "python3"
  },
  "language_info": {
   "codemirror_mode": {
    "name": "ipython",
    "version": 3
   },
   "file_extension": ".py",
   "mimetype": "text/x-python",
   "name": "python",
   "nbconvert_exporter": "python",
   "pygments_lexer": "ipython3",
   "version": "3.8.5"
  }
 },
 "nbformat": 4,
 "nbformat_minor": 4
}
